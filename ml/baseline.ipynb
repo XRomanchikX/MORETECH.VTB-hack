{
 "cells": [
  {
   "cell_type": "code",
   "execution_count": 1,
   "id": "58111cf7",
   "metadata": {},
   "outputs": [],
   "source": [
    "import torch\n",
    "from torch import nn\n",
    "import sklearn\n",
    "from aspose.words import Document\n",
    "from glob import glob\n",
    "from pathlib import Path"
   ]
  },
  {
   "cell_type": "code",
   "execution_count": 2,
   "id": "4bacdff1",
   "metadata": {},
   "outputs": [
    {
     "ename": "",
     "evalue": "",
     "output_type": "error",
     "traceback": [
      "\u001b[1;31mThe Kernel crashed while executing code in the current cell or a previous cell. \n",
      "\u001b[1;31mPlease review the code in the cell(s) to identify a possible cause of the failure. \n",
      "\u001b[1;31mClick <a href='https://aka.ms/vscodeJupyterKernelCrash'>here</a> for more info. \n",
      "\u001b[1;31mView Jupyter <a href='command:jupyter.viewOutput'>log</a> for further details."
     ]
    }
   ],
   "source": [
    "def init_dataset(path_to_data):\n",
    "    \n",
    "    rtf_data, docx_data = [], []\n",
    "    data_path = Path(path_to_data)\n",
    "    docx_files = glob(f\"{data_path}/*.docx\")\n",
    "    rtf_files = glob(f\"{data_path}/*.rtf\")\n",
    "\n",
    "    print(f\"Найдено всего: {len(docx_files) + len(rtf_files)} резюме.\")\n",
    "\n",
    "    print(\"Загрузка *.docx\")\n",
    "    for file in docx_files:\n",
    "        text = Document(file).get_text()\n",
    "            \n",
    "        docx_data.append(text)\n",
    "    print(\"Успешно загружено!\")\n",
    "\n",
    "    print(\"Загрузка *.rtf\")\n",
    "    for file in rtf_files:\n",
    "        ...\n",
    "    print(\"Успешно загружено!\")\n",
    "\n",
    "    return rtf_data, docx_data\n",
    "\n",
    "rtf_data, docx_data = init_dataset(\"data/\")\n",
    "\n",
    "rtf_data, docx_data"
   ]
  },
  {
   "cell_type": "code",
   "execution_count": null,
   "id": "df2d2821",
   "metadata": {},
   "outputs": [],
   "source": []
  }
 ],
 "metadata": {
  "kernelspec": {
   "display_name": "3.12.7",
   "language": "python",
   "name": "python3"
  },
  "language_info": {
   "codemirror_mode": {
    "name": "ipython",
    "version": 3
   },
   "file_extension": ".py",
   "mimetype": "text/x-python",
   "name": "python",
   "nbconvert_exporter": "python",
   "pygments_lexer": "ipython3",
   "version": "3.12.7"
  }
 },
 "nbformat": 4,
 "nbformat_minor": 5
}
