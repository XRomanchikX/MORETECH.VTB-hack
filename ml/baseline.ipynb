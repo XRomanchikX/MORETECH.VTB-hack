{
 "cells": [
  {
   "cell_type": "code",
   "execution_count": 1,
   "id": "58111cf7",
   "metadata": {},
   "outputs": [],
   "source": [
    "import torch\n",
    "from torch import nn\n",
    "import sklearn\n",
    "from docx import Document\n",
    "from glob import glob\n",
    "from pathlib import Path"
   ]
  },
  {
   "cell_type": "code",
   "execution_count": null,
   "id": "4bacdff1",
   "metadata": {},
   "outputs": [
    {
     "name": "stdout",
     "output_type": "stream",
     "text": [
      "Найдено всего: 6 резюме.\n",
      "Загрузка *.docx\n"
     ]
    },
    {
     "ename": "TypeError",
     "evalue": "'Document' object is not iterable",
     "output_type": "error",
     "traceback": [
      "\u001b[31m---------------------------------------------------------------------------\u001b[39m",
      "\u001b[31mTypeError\u001b[39m                                 Traceback (most recent call last)",
      "\u001b[36mCell\u001b[39m\u001b[36m \u001b[39m\u001b[32mIn[7]\u001b[39m\u001b[32m, line 25\u001b[39m\n\u001b[32m     21\u001b[39m     \u001b[38;5;28mprint\u001b[39m(\u001b[33m\"\u001b[39m\u001b[33mУспешно загружено!\u001b[39m\u001b[33m\"\u001b[39m)\n\u001b[32m     23\u001b[39m     \u001b[38;5;28;01mreturn\u001b[39;00m rtf_data, docx_data\n\u001b[32m---> \u001b[39m\u001b[32m25\u001b[39m rtf_data, docx_data = \u001b[43minit_dataset\u001b[49m\u001b[43m(\u001b[49m\u001b[33;43m\"\u001b[39;49m\u001b[33;43mdata/\u001b[39;49m\u001b[33;43m\"\u001b[39;49m\u001b[43m)\u001b[49m\n\u001b[32m     27\u001b[39m rtf_data, docx_data\n",
      "\u001b[36mCell\u001b[39m\u001b[36m \u001b[39m\u001b[32mIn[7]\u001b[39m\u001b[32m, line 13\u001b[39m, in \u001b[36minit_dataset\u001b[39m\u001b[34m(path_to_data)\u001b[39m\n\u001b[32m     11\u001b[39m \u001b[38;5;28;01mfor\u001b[39;00m file \u001b[38;5;129;01min\u001b[39;00m docx_files:\n\u001b[32m     12\u001b[39m     paragraphs_data = []\n\u001b[32m---> \u001b[39m\u001b[32m13\u001b[39m \u001b[43m    \u001b[49m\u001b[38;5;28;43;01mfor\u001b[39;49;00m\u001b[43m \u001b[49m\u001b[43mtext\u001b[49m\u001b[43m \u001b[49m\u001b[38;5;129;43;01min\u001b[39;49;00m\u001b[43m \u001b[49m\u001b[43mDocument\u001b[49m\u001b[43m(\u001b[49m\u001b[43mfile\u001b[49m\u001b[43m)\u001b[49m\u001b[43m:\u001b[49m\n\u001b[32m     14\u001b[39m \u001b[43m        \u001b[49m\u001b[43mparagraphs_data\u001b[49m\u001b[43m.\u001b[49m\u001b[43mappend\u001b[49m\u001b[43m(\u001b[49m\u001b[43mtext\u001b[49m\u001b[43m.\u001b[49m\u001b[43mparagraphs\u001b[49m\u001b[43m)\u001b[49m\n\u001b[32m     15\u001b[39m     docx_data.append(paragraphs_data)\n",
      "\u001b[31mTypeError\u001b[39m: 'Document' object is not iterable"
     ]
    }
   ],
   "source": [
    "def init_dataset(path_to_data):\n",
    "    \n",
    "    rtf_data, docx_data = [], []\n",
    "    data_path = Path(path_to_data)\n",
    "    docx_files = glob(f\"{data_path}/*.docx\")\n",
    "    rtf_files = glob(f\"{data_path}/*.rtf\")\n",
    "\n",
    "    print(f\"Найдено всего: {len(docx_files) + len(rtf_files)} резюме.\")\n",
    "\n",
    "    print(\"Загрузка *.docx\")\n",
    "    for file in docx_files:\n",
    "        paragraphs_data = []\n",
    "        for text in Document(file).paragraphs:\n",
    "            paragraphs_data.append(text.text.strip())\n",
    "        docx_data.append(paragraphs_data)\n",
    "    print(\"Успешно загружено!\")\n",
    "\n",
    "    print(\"Загрузка *.rtf\")\n",
    "    for file in rtf_files:\n",
    "        ...\n",
    "    print(\"Успешно загружено!\")\n",
    "\n",
    "    return rtf_data, docx_data\n",
    "\n",
    "rtf_data, docx_data = init_dataset(\"data/\")\n",
    "\n",
    "rtf_data, docx_data"
   ]
  },
  {
   "cell_type": "code",
   "execution_count": null,
   "id": "df2d2821",
   "metadata": {},
   "outputs": [],
   "source": []
  }
 ],
 "metadata": {
  "kernelspec": {
   "display_name": "3.12.7",
   "language": "python",
   "name": "python3"
  },
  "language_info": {
   "codemirror_mode": {
    "name": "ipython",
    "version": 3
   },
   "file_extension": ".py",
   "mimetype": "text/x-python",
   "name": "python",
   "nbconvert_exporter": "python",
   "pygments_lexer": "ipython3",
   "version": "3.12.7"
  }
 },
 "nbformat": 4,
 "nbformat_minor": 5
}
